{
 "cells": [
  {
   "cell_type": "code",
   "execution_count": 1,
   "id": "ef21f807",
   "metadata": {},
   "outputs": [
    {
     "name": "stdout",
     "output_type": "stream",
     "text": [
      "Found existing installation: SQLAlchemy 1.4.46\n",
      "Uninstalling SQLAlchemy-1.4.46:\n",
      "  Successfully uninstalled SQLAlchemy-1.4.46\n",
      "Collecting sqlalchemy==1.4.46\n",
      "  Using cached SQLAlchemy-1.4.46-cp311-cp311-win_amd64.whl (1.6 MB)\n",
      "Requirement already satisfied: greenlet!=0.4.17 in c:\\users\\mafal\\anaconda3\\lib\\site-packages (from sqlalchemy==1.4.46) (2.0.1)\n",
      "Installing collected packages: sqlalchemy\n",
      "Successfully installed sqlalchemy-1.4.46\n",
      "Requirement already satisfied: PyMySQL in c:\\users\\mafal\\anaconda3\\lib\\site-packages (1.1.0)\n"
     ]
    }
   ],
   "source": [
    "# install necessary libraries\n",
    "! pip uninstall sqlalchemy --yes\n",
    "! pip install sqlalchemy==1.4.46\n",
    "! pip install PyMySQL"
   ]
  },
  {
   "cell_type": "code",
   "execution_count": null,
   "id": "9d87ff02",
   "metadata": {},
   "outputs": [],
   "source": [
    "# Lab | SQL Queries 9\n",
    "\n",
    "# Instructions\n",
    "# In this lab we will find the customers who were active in consecutive months of May and June. \n",
    "# Follow the steps to complete the analysis."
   ]
  },
  {
   "cell_type": "code",
   "execution_count": 2,
   "id": "592d1f5e",
   "metadata": {},
   "outputs": [
    {
     "name": "stdout",
     "output_type": "stream",
     "text": [
      "········\n"
     ]
    }
   ],
   "source": [
    "# Importing the necessary libraries to set a connection between Python and SQL\n",
    "import pymysql\n",
    "from sqlalchemy import create_engine\n",
    "import pandas as pd\n",
    "import getpass  # to get the password without showing the input\n",
    "password = getpass.getpass() # insert your password below after executing this cell"
   ]
  },
  {
   "cell_type": "code",
   "execution_count": 3,
   "id": "964c5af5",
   "metadata": {},
   "outputs": [],
   "source": [
    "# Create a Python connection with SQL database and retrieve the results of the last two queries \n",
    "#(also mentioned below) as dataframes:\n",
    "\n",
    "# Making the connection with the database\n",
    "connection_string = 'mysql+pymysql://root:' + password + '@localhost/bank' # database_location/database_name\n",
    "engine = create_engine(connection_string)"
   ]
  },
  {
   "cell_type": "code",
   "execution_count": 4,
   "id": "77873160",
   "metadata": {},
   "outputs": [
    {
     "data": {
      "text/html": [
       "<div>\n",
       "<style scoped>\n",
       "    .dataframe tbody tr th:only-of-type {\n",
       "        vertical-align: middle;\n",
       "    }\n",
       "\n",
       "    .dataframe tbody tr th {\n",
       "        vertical-align: top;\n",
       "    }\n",
       "\n",
       "    .dataframe thead th {\n",
       "        text-align: right;\n",
       "    }\n",
       "</style>\n",
       "<table border=\"1\" class=\"dataframe\">\n",
       "  <thead>\n",
       "    <tr style=\"text-align: right;\">\n",
       "      <th></th>\n",
       "      <th>customer_id</th>\n",
       "      <th>customer_name</th>\n",
       "      <th>number_of_rentals</th>\n",
       "    </tr>\n",
       "  </thead>\n",
       "  <tbody>\n",
       "    <tr>\n",
       "      <th>0</th>\n",
       "      <td>197</td>\n",
       "      <td>SUE PETERS</td>\n",
       "      <td>8</td>\n",
       "    </tr>\n",
       "    <tr>\n",
       "      <th>1</th>\n",
       "      <td>506</td>\n",
       "      <td>LESLIE SEWARD</td>\n",
       "      <td>7</td>\n",
       "    </tr>\n",
       "    <tr>\n",
       "      <th>2</th>\n",
       "      <td>109</td>\n",
       "      <td>EDNA WEST</td>\n",
       "      <td>7</td>\n",
       "    </tr>\n",
       "    <tr>\n",
       "      <th>3</th>\n",
       "      <td>269</td>\n",
       "      <td>CASSANDRA WALTERS</td>\n",
       "      <td>6</td>\n",
       "    </tr>\n",
       "    <tr>\n",
       "      <th>4</th>\n",
       "      <td>239</td>\n",
       "      <td>MINNIE ROMERO</td>\n",
       "      <td>6</td>\n",
       "    </tr>\n",
       "  </tbody>\n",
       "</table>\n",
       "</div>"
      ],
      "text/plain": [
       "   customer_id      customer_name  number_of_rentals\n",
       "0          197         SUE PETERS                  8\n",
       "1          506      LESLIE SEWARD                  7\n",
       "2          109          EDNA WEST                  7\n",
       "3          269  CASSANDRA WALTERS                  6\n",
       "4          239      MINNIE ROMERO                  6"
      ]
     },
     "execution_count": 4,
     "metadata": {},
     "output_type": "execute_result"
    }
   ],
   "source": [
    "# Check the number of rentals for each customer for May\n",
    "df_customer_may_rentals = pd.read_sql_query('''\n",
    "select c.customer_id, concat(c.first_name, ' ', c.last_name) as 'customer_name', \n",
    "        count(r.rental_id) as 'number_of_rentals'\n",
    "from sakila.customer c\n",
    "join sakila.rentals_may r using(customer_id)\n",
    "group by c.customer_id, c.first_name, c.last_name\n",
    "order by count(rental_id) desc\n",
    "''', engine)\n",
    "\n",
    "df_customer_may_rentals.head()"
   ]
  },
  {
   "cell_type": "code",
   "execution_count": 5,
   "id": "3388978d",
   "metadata": {},
   "outputs": [
    {
     "data": {
      "text/html": [
       "<div>\n",
       "<style scoped>\n",
       "    .dataframe tbody tr th:only-of-type {\n",
       "        vertical-align: middle;\n",
       "    }\n",
       "\n",
       "    .dataframe tbody tr th {\n",
       "        vertical-align: top;\n",
       "    }\n",
       "\n",
       "    .dataframe thead th {\n",
       "        text-align: right;\n",
       "    }\n",
       "</style>\n",
       "<table border=\"1\" class=\"dataframe\">\n",
       "  <thead>\n",
       "    <tr style=\"text-align: right;\">\n",
       "      <th></th>\n",
       "      <th>customer_id</th>\n",
       "      <th>customer_name</th>\n",
       "      <th>number_of_rentals</th>\n",
       "    </tr>\n",
       "  </thead>\n",
       "  <tbody>\n",
       "    <tr>\n",
       "      <th>0</th>\n",
       "      <td>31</td>\n",
       "      <td>BRENDA WRIGHT</td>\n",
       "      <td>11</td>\n",
       "    </tr>\n",
       "    <tr>\n",
       "      <th>1</th>\n",
       "      <td>454</td>\n",
       "      <td>ALEX GRESHAM</td>\n",
       "      <td>10</td>\n",
       "    </tr>\n",
       "    <tr>\n",
       "      <th>2</th>\n",
       "      <td>329</td>\n",
       "      <td>FRANK WAGGONER</td>\n",
       "      <td>9</td>\n",
       "    </tr>\n",
       "    <tr>\n",
       "      <th>3</th>\n",
       "      <td>295</td>\n",
       "      <td>DAISY BATES</td>\n",
       "      <td>9</td>\n",
       "    </tr>\n",
       "    <tr>\n",
       "      <th>4</th>\n",
       "      <td>561</td>\n",
       "      <td>IAN STILL</td>\n",
       "      <td>9</td>\n",
       "    </tr>\n",
       "  </tbody>\n",
       "</table>\n",
       "</div>"
      ],
      "text/plain": [
       "   customer_id   customer_name  number_of_rentals\n",
       "0           31   BRENDA WRIGHT                 11\n",
       "1          454    ALEX GRESHAM                 10\n",
       "2          329  FRANK WAGGONER                  9\n",
       "3          295     DAISY BATES                  9\n",
       "4          561       IAN STILL                  9"
      ]
     },
     "execution_count": 5,
     "metadata": {},
     "output_type": "execute_result"
    }
   ],
   "source": [
    "# Check the number of rentals for each customer for June\n",
    "df_customer_june_rentals = pd.read_sql_query('''\n",
    "select c.customer_id, concat(c.first_name, ' ', c.last_name) as 'customer_name', \n",
    "        count(r.rental_id) as 'number_of_rentals'\n",
    "from sakila.customer c\n",
    "join sakila.rentals_june r using(customer_id)\n",
    "group by c.customer_id, c.first_name, c.last_name\n",
    "order by count(rental_id) desc\n",
    "''', engine)\n",
    "\n",
    "df_customer_june_rentals.head()\n"
   ]
  },
  {
   "cell_type": "code",
   "execution_count": 9,
   "id": "9a53c418",
   "metadata": {},
   "outputs": [
    {
     "data": {
      "text/plain": [
       "2251"
      ]
     },
     "execution_count": 9,
     "metadata": {},
     "output_type": "execute_result"
    }
   ],
   "source": [
    "# Write a function that checks if customer borrowed more or less films in the month of June \n",
    "# as compared to May.\n"
   ]
  },
  {
   "cell_type": "code",
   "execution_count": 10,
   "id": "82bb4dd8",
   "metadata": {},
   "outputs": [
    {
     "data": {
      "text/plain": [
       "1122"
      ]
     },
     "execution_count": 10,
     "metadata": {},
     "output_type": "execute_result"
    }
   ],
   "source": []
  },
  {
   "cell_type": "code",
   "execution_count": null,
   "id": "10e24e1c",
   "metadata": {},
   "outputs": [],
   "source": []
  }
 ],
 "metadata": {
  "kernelspec": {
   "display_name": "Python 3 (ipykernel)",
   "language": "python",
   "name": "python3"
  },
  "language_info": {
   "codemirror_mode": {
    "name": "ipython",
    "version": 3
   },
   "file_extension": ".py",
   "mimetype": "text/x-python",
   "name": "python",
   "nbconvert_exporter": "python",
   "pygments_lexer": "ipython3",
   "version": "3.11.5"
  }
 },
 "nbformat": 4,
 "nbformat_minor": 5
}
